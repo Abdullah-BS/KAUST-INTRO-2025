{
 "cells": [
  {
   "cell_type": "code",
   "execution_count": 7,
   "metadata": {},
   "outputs": [],
   "source": [
    "import torch\n",
    "import torch.nn as nn\n",
    "import torch.optim as optim\n",
    "import torch.nn.functional as F\n",
    "import matplotlib.pyplot as plt\n",
    "\n",
    "# from tqdm.notebook import tqdm\n",
    "# from tqdm import tqdm \n",
    "\n",
    "#not in scope of this course\n",
    "from torchvision.datasets import CIFAR10\n",
    "import torchvision.transforms as T\n",
    "from torch.utils.data import DataLoader\n",
    "\n",
    "from torch.optim import Adam\n"
   ]
  },
  {
   "cell_type": "code",
   "execution_count": 3,
   "metadata": {},
   "outputs": [
    {
     "name": "stdout",
     "output_type": "stream",
     "text": [
      "Downloading https://www.cs.toronto.edu/~kriz/cifar-10-python.tar.gz to .\\cifar-10-python.tar.gz\n"
     ]
    },
    {
     "name": "stderr",
     "output_type": "stream",
     "text": [
      "100.0%\n"
     ]
    },
    {
     "name": "stdout",
     "output_type": "stream",
     "text": [
      "Extracting .\\cifar-10-python.tar.gz to .\n",
      "Files already downloaded and verified\n"
     ]
    }
   ],
   "source": [
    "train_dataset = CIFAR10(\".\", download = True, train = True, transform = T.ToTensor())\n",
    "test_dataset = CIFAR10(\".\", download = True, train = False, transform = T.ToTensor())"
   ]
  },
  {
   "cell_type": "code",
   "execution_count": 4,
   "metadata": {},
   "outputs": [
    {
     "name": "stdout",
     "output_type": "stream",
     "text": [
      "Class names: ['airplane', 'automobile', 'bird', 'cat', 'deer', 'dog', 'frog', 'horse', 'ship', 'truck']\n",
      "\n",
      "Number of classes: 10\n",
      "\n",
      "Class to index: {'airplane': 0, 'automobile': 1, 'bird': 2, 'cat': 3, 'deer': 4, 'dog': 5, 'frog': 6, 'horse': 7, 'ship': 8, 'truck': 9}\n",
      "\n",
      "train_dataset.data.shape (50000, 32, 32, 3)\n",
      "\n",
      "test_dataset.data.shape (10000, 32, 32, 3)\n"
     ]
    }
   ],
   "source": [
    "print(\"Class names:\", train_dataset.classes)\n",
    "print(\"\\nNumber of classes:\", len(train_dataset.classes))\n",
    "print(\"\\nClass to index:\", train_dataset.class_to_idx)\n",
    "\n",
    "print(\"\\ntrain_dataset.data.shape\",train_dataset.data.shape)\n",
    "print(\"\\ntest_dataset.data.shape\",test_dataset.data.shape)\n",
    "## 50k images for train\n",
    "## 10k images for test\n",
    "## 32*32*3 images\n"
   ]
  },
  {
   "cell_type": "code",
   "execution_count": 5,
   "metadata": {},
   "outputs": [
    {
     "name": "stdout",
     "output_type": "stream",
     "text": [
      "Number of batches for train:  782\n",
      "Batch size for train:  64\n",
      "Number of batches for test:  157\n",
      "Batch size for test:  64\n",
      "\n",
      "Images:  torch.Size([64, 3, 32, 32])\n",
      "Labels:  torch.Size([64])\n"
     ]
    }
   ],
   "source": [
    "bs = 64\n",
    "\n",
    "train_loader = DataLoader(train_dataset, batch_size = bs)\n",
    "test_loader = DataLoader(test_dataset, batch_size = bs)\n",
    "\n",
    "\n",
    "\n",
    "print(\"Number of batches for train: \",len(train_loader))\n",
    "print(\"Batch size for train: \",train_loader.batch_size)\n",
    "\n",
    "print(\"Number of batches for test: \",len(test_loader))\n",
    "print(\"Batch size for test: \",test_loader.batch_size)\n",
    "\n",
    "print()\n",
    "for images, labels in train_loader:\n",
    "    print(\"Images: \",images.shape)\n",
    "    print(\"Labels: \",labels.shape)\n",
    "    break\n",
    "\n"
   ]
  },
  {
   "cell_type": "code",
   "execution_count": 40,
   "metadata": {},
   "outputs": [],
   "source": [
    "class Model(nn.Module):\n",
    "    def __init__(self, input, h1, h2, h3, output):\n",
    "        super(Model, self).__init__()\n",
    "        \n",
    "        self.layer1 = nn.Linear(input, h1)\n",
    "        self.layer2 = nn.Linear(h1, h2)\n",
    "        self.layer3 = nn.Linear(h2, h3)\n",
    "        self.layer4 = nn.Linear(h3, output)\n",
    "        \n",
    "        self.activaton = nn.ReLU()\n",
    "        \n",
    "    def forward(self, x):\n",
    "        z1 = self.layer1(x)\n",
    "        a1 = self.activaton(z1)\n",
    "        \n",
    "        z2 = self.layer2(a1)\n",
    "        a2 = self.activaton(z2)\n",
    "        \n",
    "        z3 = self.layer3(a2)\n",
    "        a3 = self.activaton(z3)\n",
    "        \n",
    "        z4 = self.layer4(a3)\n",
    "        return z3"
   ]
  },
  {
   "cell_type": "code",
   "execution_count": 41,
   "metadata": {},
   "outputs": [
    {
     "name": "stdout",
     "output_type": "stream",
     "text": [
      "Using device cuda\n"
     ]
    }
   ],
   "source": [
    "model = Model(32*32*3, 512, 256, 128, 10)\n",
    "\n",
    "lr = 1e-3\n",
    "epochs = 20\n",
    "\n",
    "\n",
    "optimizer = Adam(model.parameters(), lr=lr)\n",
    "criterion = nn.CrossEntropyLoss() # For multiClass\n",
    "\n",
    "device = 'cuda' if torch.cuda.is_available() else 'cpu'  # checks if machine supports cuda and if it does, we use that, otherwise cpu\n",
    "model.to(device)\n",
    "print(f'Using device {device}')"
   ]
  },
  {
   "cell_type": "code",
   "execution_count": 42,
   "metadata": {},
   "outputs": [
    {
     "name": "stdout",
     "output_type": "stream",
     "text": [
      "Epoch: 0, train_loss=1.8695194413757323\n",
      "Epoch: 1, train_loss=1.6620381580352783\n",
      "Epoch: 2, train_loss=1.567871316757202\n",
      "Epoch: 3, train_loss=1.5051060040664672\n",
      "Epoch: 4, train_loss=1.4630194829559326\n",
      "Epoch: 5, train_loss=1.425515972137451\n",
      "Epoch: 6, train_loss=1.3902883518981934\n",
      "Epoch: 7, train_loss=1.3634907129287719\n",
      "Epoch: 8, train_loss=1.3345712749481202\n",
      "Epoch: 9, train_loss=1.3087782113647461\n",
      "Epoch: 10, train_loss=1.2879632996368409\n",
      "Epoch: 11, train_loss=1.2656706897354126\n",
      "Epoch: 12, train_loss=1.24499235496521\n",
      "Epoch: 13, train_loss=1.2270338820266724\n",
      "Epoch: 14, train_loss=1.2051537104415893\n",
      "Epoch: 15, train_loss=1.1936408696365357\n",
      "Epoch: 16, train_loss=1.1828997336578368\n",
      "Epoch: 17, train_loss=1.1703029961776734\n",
      "Epoch: 18, train_loss=1.1560139784622192\n",
      "Epoch: 19, train_loss=1.1387386043930054\n"
     ]
    },
    {
     "data": {
      "text/plain": [
       "Text(0, 0.5, 'Loss (Cross Entropy)')"
      ]
     },
     "execution_count": 42,
     "metadata": {},
     "output_type": "execute_result"
    },
    {
     "data": {
      "image/png": "[encoded data removed]",
      "text/plain": [
       "<Figure size 640x480 with 1 Axes>"
      ]
     },
     "metadata": {},
     "output_type": "display_data"
    }
   ],
   "source": [
    "# Training \n",
    "train_losses = []\n",
    "\n",
    "for epoch in range(epochs):\n",
    "    model.train()   # Training Mode\n",
    "    epoch_weighted_loss = 0     # Loss Counter (For plotting)\n",
    "    \n",
    "    for batch_x, batch_y in train_loader:\n",
    "        batch_x = batch_x.view(-1, 32*32*3).to(device)      \n",
    "        batch_y = batch_y.to(device)      \n",
    "        \n",
    "        pred = model(batch_x)   # model output\n",
    "        \n",
    "        loss = criterion(pred, batch_y) # loss\n",
    "        \n",
    "        # Updating weights\n",
    "        optimizer.zero_grad()\n",
    "        loss.backward()\n",
    "        optimizer.step()\n",
    "        \n",
    "        epoch_weighted_loss += (len(batch_y)*loss.item()) # for plotting purpose\n",
    "    \n",
    "    epoch_loss = epoch_weighted_loss/len(train_loader.dataset)\n",
    "    train_losses.append(epoch_loss)    # add loss for tracking\n",
    "    print(f'Epoch: {epoch}, train_loss={epoch_loss}')\n",
    "\n",
    "plt.plot(train_losses, label='train loss')\n",
    "plt.xlabel('Epoch')\n",
    "plt.ylabel('Loss (Cross Entropy)')\n",
    "\n",
    "    "
   ]
  },
  {
   "cell_type": "code",
   "execution_count": 43,
   "metadata": {},
   "outputs": [
    {
     "name": "stdout",
     "output_type": "stream",
     "text": [
      "labelled 5057/10000 correctly (50.57000000000001% accuracy)\n"
     ]
    }
   ],
   "source": [
    "model.eval()\n",
    "correctly_labelled = 0 # for accuracy\n",
    "\n",
    "# Same as training loop but without updating the weights\n",
    "with torch.no_grad():\n",
    "    val_epoch_weighted_loss = 0\n",
    "\n",
    "    for batch_x, batch_y in test_loader:\n",
    "        batch_x = batch_x.view(-1, 32*32*3).to(device)\n",
    "        batch_y = batch_y.to(device)\n",
    "        \n",
    "        y_pred = model(batch_x)\n",
    "        \n",
    "        loss = criterion(y_pred, batch_y)\n",
    "        \n",
    "        val_epoch_weighted_loss += (len(batch_y)*loss.item())\n",
    "\n",
    "        val_batch_y_pred = y_pred.argmax(dim=1)  # convert probailities to labels by picking the label (index) with the highest prob\n",
    "\n",
    "        correctly_labelled += (val_batch_y_pred == batch_y).sum().item()  # item converts tensor to float/int/list\n",
    "\n",
    "print(f'labelled {correctly_labelled}/{len(test_loader.dataset)} correctly ({correctly_labelled/len(test_loader.dataset)*100}% accuracy)')\n"
   ]
  },
  {
   "cell_type": "code",
   "execution_count": null,
   "metadata": {},
   "outputs": [],
   "source": []
  },
  {
   "cell_type": "code",
   "execution_count": null,
   "metadata": {},
   "outputs": [],
   "source": []
  }
 ],
 "metadata": {
  "kernelspec": {
   "display_name": "Python 3",
   "language": "python",
   "name": "python3"
  },
  "language_info": {
   "codemirror_mode": {
    "name": "ipython",
    "version": 3
   },
   "file_extension": ".py",
   "mimetype": "text/x-python",
   "name": "python",
   "nbconvert_exporter": "python",
   "pygments_lexer": "ipython3",
   "version": "3.11.5"
  }
 },
 "nbformat": 4,
 "nbformat_minor": 2
}
