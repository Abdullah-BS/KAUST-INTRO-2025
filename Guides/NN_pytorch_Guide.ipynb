{
 "cells": [
  {
   "cell_type": "markdown",
   "metadata": {},
   "source": [
    "### 1. Import Required Libraries\n",
    "\n",
    "### 2. Load Your Data\n",
    "\n",
    "```data = pd.read_csv('your_data.csv')```\n",
    "\n",
    "### 3. Explore and Preprocess the Data (Convert to Tensors to use Pytorch!!!!)\n",
    "\n",
    "```print(data.info())  # Understand the structure of your data```\n",
    "\n",
    "```data.fillna(method='ffill', inplace=True)  # Handle missing values```\n",
    "\n",
    "### 4. Define Features and Target\n",
    "\n",
    "`X = data.drop('target_column', axis=1)`\n",
    "\n",
    "   `y = data['target_column']`\n",
    "\n",
    "### 5. Split the Data\n",
    "\n",
    "`X_train, X_test, y_train, y_test = train_test_split(X, y, test_size=0.2, random_state=42)`\n",
    "\n",
    "### 6. Create the NN class\n",
    "\n",
    "### 7. Create citerion + optimizer + add model to cuda\n",
    "\n",
    "`criterion = nn.CrossEntropyLoss()`\n",
    "\n",
    "`optimizer = torch.optim.Adam(model.parameters(), lr=0.001)`\n",
    "\n",
    "### 8. Training loop\n",
    "\n",
    "`model.train()`\n",
    "\n",
    "`batch_y_probs = model(x_train)`\n",
    "\n",
    "`loss = criterion(batch_y_probs, batch_y)`\n",
    "\n",
    "`optimizer.zero_grad()`\n",
    "\n",
    "`loss.backward()`\n",
    "\n",
    "`optimizer.step()`\n",
    "\n",
    "\n",
    "### 9. Evaluate the Model\n",
    "\n",
    "`with torch.no_grad():`\n",
    "\n",
    "  `y_eval = model.forward(X_test)`\n",
    "\n",
    "  `loss = criterion(y_eval, y_test)`\n"
   ]
  },
  {
   "cell_type": "markdown",
   "metadata": {},
   "source": [
    "# Contents:\n",
    "\n",
    "1. Implementation of 1-2 layer NN fin pytorch which classifies MNIST dataset\n",
    "\n",
    "About MNIST:\n",
    "\n",
    "the dataset consists of images of 28x28 size. The image each contains a handwritten digit from 0 to 9. Our model needs to take this image and classify it to the correct digit.\n",
    "\n",
    "\n",
    "You need to know:\n",
    "\n",
    "1. **pytorch** (for impelementation)\n",
    "2. a little bit of **matplotlib** (for visualization)\n",
    "\n",
    "\n",
    "Good to have knowledge of:\n",
    "\n",
    "1. torch dataset and dataloader"
   ]
  },
  {
   "cell_type": "code",
   "execution_count": 4,
   "metadata": {},
   "outputs": [],
   "source": [
    "import torch\n",
    "\n",
    "import torch.nn as nn\n",
    "\n",
    "from torchvision.datasets import MNIST\n",
    "from torch.utils.data import DataLoader\n",
    "from torch.optim import Adam\n",
    "\n",
    "from torchvision.transforms.functional import to_tensor\n",
    "\n",
    "import matplotlib.pyplot as plt\n",
    "from IPython.display import clear_output"
   ]
  },
  {
   "cell_type": "code",
   "execution_count": 5,
   "metadata": {},
   "outputs": [],
   "source": [
    "train_data = MNIST(root='./datasets', train=True, download=True, transform=to_tensor)\n",
    "test_data  = MNIST(root='./datasets', train=False, download=True, transform=to_tensor)\n",
    "\n",
    "clear_output()"
   ]
  },
  {
   "cell_type": "code",
   "execution_count": 6,
   "metadata": {},
   "outputs": [],
   "source": [
    "batch_size = 64\n",
    "\n",
    "# Dataloaders are used to easily create batches of data so we can perform batch gradient descent for faster learning\n",
    "train_loader = DataLoader(train_data, batch_size=batch_size)\n",
    "test_loader = DataLoader(test_data, batch_size=batch_size)"
   ]
  },
  {
   "cell_type": "markdown",
   "metadata": {},
   "source": [
    "Model Class"
   ]
  },
  {
   "cell_type": "code",
   "execution_count": 7,
   "metadata": {},
   "outputs": [],
   "source": [
    "class Model(nn.Module):\n",
    "    def __init__(self, input, h1, h2, output):\n",
    "        super(Model, self).__init__()\n",
    "        \n",
    "        self.layer1 = nn.Linear(input, h1)\n",
    "        self.layer2 = nn.Linear(h1, h2)\n",
    "        self.layer3 = nn.Linear(h2, output)\n",
    "        \n",
    "        self.activaton = nn.ReLU()\n",
    "        \n",
    "    def forward(self, x):\n",
    "        z1 = self.layer1(x)\n",
    "        a1 = self.activaton(z1)\n",
    "        \n",
    "        z2 = self.layer2(a1)\n",
    "        a2 = self.activaton(z2)\n",
    "        \n",
    "        z3 = self.layer3(a2)\n",
    "        return z3"
   ]
  },
  {
   "cell_type": "markdown",
   "metadata": {},
   "source": [
    "Model Instance\n",
    "\n",
    "Optimizer\n",
    "\n",
    "Criterion"
   ]
  },
  {
   "cell_type": "code",
   "execution_count": 8,
   "metadata": {},
   "outputs": [
    {
     "name": "stdout",
     "output_type": "stream",
     "text": [
      "Using device cuda\n"
     ]
    }
   ],
   "source": [
    "model = Model(28*28, 100, 50, 10)\n",
    "\n",
    "lr = 1e-4\n",
    "epochs = 12\n",
    "\n",
    "\n",
    "optimizer = Adam(model.parameters(), lr=lr)\n",
    "criterion = nn.CrossEntropyLoss() # For multiClass\n",
    "\n",
    "device = 'cuda' if torch.cuda.is_available() else 'cpu'  # checks if machine supports cuda and if it does, we use that, otherwise cpu\n",
    "model.to(device)\n",
    "print(f'Using device {device}')"
   ]
  },
  {
   "cell_type": "markdown",
   "metadata": {},
   "source": [
    "Check the size of x, y"
   ]
  },
  {
   "cell_type": "code",
   "execution_count": 9,
   "metadata": {},
   "outputs": [
    {
     "name": "stdout",
     "output_type": "stream",
     "text": [
      "torch.Size([64, 1, 28, 28])\n",
      "torch.Size([64])\n"
     ]
    }
   ],
   "source": [
    "for x, y in train_loader:\n",
    "    print(x.shape)\n",
    "    print(y.shape)\n",
    "    break"
   ]
  },
  {
   "cell_type": "markdown",
   "metadata": {},
   "source": [
    "Training Loop"
   ]
  },
  {
   "cell_type": "code",
   "execution_count": 23,
   "metadata": {},
   "outputs": [
    {
     "name": "stdout",
     "output_type": "stream",
     "text": [
      "Epoch: 0, train_loss=1.0300989752054215\n",
      "Epoch: 1, train_loss=0.39816839495897294\n",
      "Epoch: 2, train_loss=0.32688268643220264\n",
      "Epoch: 3, train_loss=0.2886667610069116\n",
      "Epoch: 4, train_loss=0.26112777597308157\n",
      "Epoch: 5, train_loss=0.23902301475405693\n",
      "Epoch: 6, train_loss=0.22056051707863808\n",
      "Epoch: 7, train_loss=0.2047259942173958\n",
      "Epoch: 8, train_loss=0.1910862295726935\n",
      "Epoch: 9, train_loss=0.17920544263919194\n",
      "Epoch: 10, train_loss=0.16877094275852045\n",
      "Epoch: 11, train_loss=0.15946274343679348\n"
     ]
    },
    {
     "data": {
      "text/plain": [
       "Text(0, 0.5, 'Loss (Cross Entropy)')"
      ]
     },
     "execution_count": 23,
     "metadata": {},
     "output_type": "execute_result"
    },
    {
     "data": {
      "image/png": "[encoded data removed]",
      "text/plain": [
       "<Figure size 640x480 with 1 Axes>"
      ]
     },
     "metadata": {},
     "output_type": "display_data"
    }
   ],
   "source": [
    "train_losses = []\n",
    "\n",
    "for epoch in range(epochs):\n",
    "    model.train()   # Training Mode\n",
    "    epoch_weighted_loss = 0     # Loss Counter (For plotting)\n",
    "    \n",
    "    for batch_x, batch_y in train_loader:\n",
    "        batch_x = batch_x.view(-1, 28*28).to(device)       # Resize (flatten) - (view in pytorch == reshape in numpy) \n",
    "        batch_y = batch_y.to(device)       # Resize (flatten) - (view in pytorch == reshape in numpy) \n",
    "        \n",
    "        pred = model(batch_x)   # model output\n",
    "        \n",
    "        loss = criterion(pred, batch_y) # loss\n",
    "        \n",
    "        # Updating weights\n",
    "        optimizer.zero_grad()\n",
    "        loss.backward()\n",
    "        optimizer.step()\n",
    "        \n",
    "        epoch_weighted_loss += (len(batch_y)*loss.item()) # for plotting purpose\n",
    "    \n",
    "    epoch_loss = epoch_weighted_loss/len(train_loader.dataset)\n",
    "    train_losses.append(epoch_loss)    # add loss for tracking\n",
    "    print(f'Epoch: {epoch+1}, train_loss={epoch_loss}')\n",
    "\n",
    "plt.plot(train_losses, label='train loss')\n",
    "plt.xlabel('Epoch')\n",
    "plt.ylabel('Loss (Cross Entropy)')\n",
    "\n",
    "    "
   ]
  },
  {
   "cell_type": "markdown",
   "metadata": {},
   "source": [
    "Another Training loop"
   ]
  },
  {
   "cell_type": "code",
   "execution_count": 11,
   "metadata": {},
   "outputs": [
    {
     "name": "stdout",
     "output_type": "stream",
     "text": [
      "Epoch [1/12] started...\n",
      "Epoch [1/12] completed. Loss: 1.0011\n",
      "Epoch [2/12] started...\n",
      "Epoch [2/12] completed. Loss: 0.6854\n",
      "Epoch [3/12] started...\n",
      "Epoch [3/12] completed. Loss: 0.5604\n",
      "Epoch [4/12] started...\n",
      "Epoch [4/12] completed. Loss: 0.4903\n",
      "Epoch [5/12] started...\n",
      "Epoch [5/12] completed. Loss: 0.4436\n",
      "Epoch [6/12] started...\n",
      "Epoch [6/12] completed. Loss: 0.4092\n",
      "Epoch [7/12] started...\n",
      "Epoch [7/12] completed. Loss: 0.3822\n",
      "Epoch [8/12] started...\n",
      "Epoch [8/12] completed. Loss: 0.3599\n",
      "Epoch [9/12] started...\n",
      "Epoch [9/12] completed. Loss: 0.3410\n",
      "Epoch [10/12] started...\n",
      "Epoch [10/12] completed. Loss: 0.3247\n",
      "Epoch [11/12] started...\n",
      "Epoch [11/12] completed. Loss: 0.3103\n",
      "Epoch [12/12] started...\n",
      "Epoch [12/12] completed. Loss: 0.2975\n"
     ]
    },
    {
     "data": {
      "text/plain": [
       "[<matplotlib.lines.Line2D at 0x251eafb9310>]"
      ]
     },
     "execution_count": 11,
     "metadata": {},
     "output_type": "execute_result"
    },
    {
     "data": {
      "image/png": "[encoded data removed]",
      "text/plain": [
       "<Figure size 640x480 with 1 Axes>"
      ]
     },
     "metadata": {},
     "output_type": "display_data"
    }
   ],
   "source": [
    "total_loss = 0\n",
    "ls = []\n",
    "\n",
    "for epoch in range(epochs):\n",
    "    print(f'Epoch [{epoch+1}/{epochs}] started...')\n",
    "    \n",
    "    for inputs, labels in train_loader:\n",
    "        \n",
    "        inputs, labels = inputs.view(-1, 28*28).to(device), labels.to(device)  # Move inputs and labels to the device('cuda:0')\n",
    "        \n",
    "        outputs = model(inputs)\n",
    "        \n",
    "        optimizer.zero_grad()  # zero the gradients\n",
    "        loss = criterion(outputs, labels)\n",
    "        loss.backward()  # compute gradients\n",
    "        optimizer.step()  # update the weights -lr * gradient\n",
    "        \n",
    "        total_loss += loss.item()\n",
    "    \n",
    "    loss = total_loss / ((epoch + 1) * len(train_loader))\n",
    "    ls.append(loss)\n",
    "    print(f'Epoch [{epoch+1}/{epochs}] completed. Loss: {loss:.4f}')\n",
    "# Plot the training loss\n",
    "plt.plot(ls)"
   ]
  },
  {
   "cell_type": "markdown",
   "metadata": {},
   "source": [
    "Model Evaluation (on test dataset)"
   ]
  },
  {
   "cell_type": "code",
   "execution_count": 12,
   "metadata": {},
   "outputs": [
    {
     "name": "stdout",
     "output_type": "stream",
     "text": [
      "labelled 9551/10000 correctly (95.50999999999999% accuracy)\n"
     ]
    }
   ],
   "source": [
    "model.eval()\n",
    "correctly_labelled = 0 # for accuracy\n",
    "\n",
    "# Same as training loop but without updating the weights\n",
    "with torch.no_grad():\n",
    "    val_epoch_weighted_loss = 0\n",
    "\n",
    "    for batch_x, batch_y in test_loader:\n",
    "        batch_x = batch_x.view(-1, 28*28).to(device)\n",
    "        batch_y = batch_y.to(device)\n",
    "        \n",
    "        y_pred = model(batch_x)\n",
    "        \n",
    "        loss = criterion(y_pred, batch_y)\n",
    "        \n",
    "        val_epoch_weighted_loss += (len(batch_y)*loss.item())\n",
    "\n",
    "        val_batch_y_pred = y_pred.argmax(dim=1)  # convert probailities to labels by picking the label (index) with the highest prob\n",
    "\n",
    "        correctly_labelled += (val_batch_y_pred == batch_y).sum().item()  # item converts tensor to float/int/list\n",
    "\n",
    "print(f'labelled {correctly_labelled}/{len(test_loader.dataset)} correctly ({correctly_labelled/len(test_loader.dataset)*100}% accuracy)')\n"
   ]
  }
 ],
 "metadata": {
  "kernelspec": {
   "display_name": "Python 3",
   "language": "python",
   "name": "python3"
  },
  "language_info": {
   "codemirror_mode": {
    "name": "ipython",
    "version": 3
   },
   "file_extension": ".py",
   "mimetype": "text/x-python",
   "name": "python",
   "nbconvert_exporter": "python",
   "pygments_lexer": "ipython3",
   "version": "3.11.5"
  }
 },
 "nbformat": 4,
 "nbformat_minor": 2
}
