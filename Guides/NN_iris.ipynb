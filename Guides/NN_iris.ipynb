{
 "cells": [
  {
   "cell_type": "markdown",
   "metadata": {},
   "source": [
    "### 1. Import Required Libraries\n",
    "\n",
    "### 2. Load Your Data\n",
    "\n",
    "```data = pd.read_csv('your_data.csv')```\n",
    "\n",
    "### 3. Explore and Preprocess the Data (Convert to Tensors to use Pytorch!!!!)\n",
    "\n",
    "```print(data.info())  # Understand the structure of your data```\n",
    "\n",
    "```data.fillna(method='ffill', inplace=True)  # Handle missing values```\n",
    "\n",
    "### 4. Define Features and Target\n",
    "\n",
    "`X = data.drop('target_column', axis=1)`\n",
    "\n",
    "   `y = data['target_column']`\n",
    "\n",
    "### 5. Split the Data\n",
    "\n",
    "`X_train, X_test, y_train, y_test = train_test_split(X, y, test_size=0.2, random_state=42)`\n",
    "\n",
    "### 6. Create the NN class\n",
    "\n",
    "### 7. Create citerion + optimizer\n",
    "\n",
    "`criterion = nn.CrossEntropyLoss()`\n",
    "\n",
    "`optimizer = torch.optim.Adam(model.parameters(), lr=0.001)`\n",
    "\n",
    "### 8. Training loop\n",
    "\n",
    "`model.train()`\n",
    "\n",
    "`batch_y_probs = model(x_train)`\n",
    "\n",
    "`loss = criterion(batch_y_probs, batch_y)`\n",
    "\n",
    "`optimizer.zero_grad()`\n",
    "\n",
    "`loss.backward()`\n",
    "\n",
    "`optimizer.step()`\n",
    "\n",
    "\n",
    "### 9. Evaluate the Model\n",
    "\n",
    "`with torch.no_grad():`\n",
    "\n",
    "  `y_eval = model.forward(X_test)`\n",
    "\n",
    "  `loss = criterion(y_eval, y_test)`\n"
   ]
  },
  {
   "cell_type": "code",
   "execution_count": 92,
   "metadata": {},
   "outputs": [],
   "source": [
    "import numpy as np\n",
    "import matplotlib.pyplot as plt\n",
    "import pandas as pd\n",
    "import torch\n",
    "from torch import nn\n",
    "from sklearn.model_selection import train_test_split\n",
    "from sklearn.preprocessing import StandardScaler\n",
    "from sklearn.preprocessing import LabelEncoder\n",
    "import torch.nn.functional as F\n"
   ]
  },
  {
   "cell_type": "code",
   "execution_count": 93,
   "metadata": {},
   "outputs": [
    {
     "data": {
      "text/html": [
       "<div>\n",
       "<style scoped>\n",
       "    .dataframe tbody tr th:only-of-type {\n",
       "        vertical-align: middle;\n",
       "    }\n",
       "\n",
       "    .dataframe tbody tr th {\n",
       "        vertical-align: top;\n",
       "    }\n",
       "\n",
       "    .dataframe thead th {\n",
       "        text-align: right;\n",
       "    }\n",
       "</style>\n",
       "<table border=\"1\" class=\"dataframe\">\n",
       "  <thead>\n",
       "    <tr style=\"text-align: right;\">\n",
       "      <th></th>\n",
       "      <th>sepal.length</th>\n",
       "      <th>sepal.width</th>\n",
       "      <th>petal.length</th>\n",
       "      <th>petal.width</th>\n",
       "      <th>variety</th>\n",
       "    </tr>\n",
       "  </thead>\n",
       "  <tbody>\n",
       "    <tr>\n",
       "      <th>0</th>\n",
       "      <td>5.1</td>\n",
       "      <td>3.5</td>\n",
       "      <td>1.4</td>\n",
       "      <td>0.2</td>\n",
       "      <td>0</td>\n",
       "    </tr>\n",
       "    <tr>\n",
       "      <th>1</th>\n",
       "      <td>4.9</td>\n",
       "      <td>3.0</td>\n",
       "      <td>1.4</td>\n",
       "      <td>0.2</td>\n",
       "      <td>0</td>\n",
       "    </tr>\n",
       "    <tr>\n",
       "      <th>2</th>\n",
       "      <td>4.7</td>\n",
       "      <td>3.2</td>\n",
       "      <td>1.3</td>\n",
       "      <td>0.2</td>\n",
       "      <td>0</td>\n",
       "    </tr>\n",
       "    <tr>\n",
       "      <th>3</th>\n",
       "      <td>4.6</td>\n",
       "      <td>3.1</td>\n",
       "      <td>1.5</td>\n",
       "      <td>0.2</td>\n",
       "      <td>0</td>\n",
       "    </tr>\n",
       "    <tr>\n",
       "      <th>4</th>\n",
       "      <td>5.0</td>\n",
       "      <td>3.6</td>\n",
       "      <td>1.4</td>\n",
       "      <td>0.2</td>\n",
       "      <td>0</td>\n",
       "    </tr>\n",
       "  </tbody>\n",
       "</table>\n",
       "</div>"
      ],
      "text/plain": [
       "   sepal.length  sepal.width  petal.length  petal.width  variety\n",
       "0           5.1          3.5           1.4          0.2        0\n",
       "1           4.9          3.0           1.4          0.2        0\n",
       "2           4.7          3.2           1.3          0.2        0\n",
       "3           4.6          3.1           1.5          0.2        0\n",
       "4           5.0          3.6           1.4          0.2        0"
      ]
     },
     "execution_count": 93,
     "metadata": {},
     "output_type": "execute_result"
    }
   ],
   "source": [
    "data = pd.read_csv('iris.csv')\n",
    "\n",
    "# Initialize the LabelEncoder\n",
    "label_encoder = LabelEncoder()\n",
    "\n",
    "data['variety'] = label_encoder.fit_transform(data['variety'])\n",
    "\n",
    "data.head()"
   ]
  },
  {
   "cell_type": "code",
   "execution_count": 94,
   "metadata": {},
   "outputs": [],
   "source": [
    "x = data.drop('variety', axis=1)\n",
    "y = data['variety']"
   ]
  },
  {
   "cell_type": "code",
   "execution_count": 95,
   "metadata": {},
   "outputs": [],
   "source": [
    "# Convert these to numpy arrays\n",
    "x = x.values\n",
    "y = y.values"
   ]
  },
  {
   "cell_type": "code",
   "execution_count": 96,
   "metadata": {},
   "outputs": [
    {
     "name": "stdout",
     "output_type": "stream",
     "text": [
      "(150, 4)\n"
     ]
    }
   ],
   "source": [
    "print(x.shape)"
   ]
  },
  {
   "cell_type": "code",
   "execution_count": 97,
   "metadata": {},
   "outputs": [
    {
     "name": "stdout",
     "output_type": "stream",
     "text": [
      "(150,)\n"
     ]
    }
   ],
   "source": [
    "print(y.shape)"
   ]
  },
  {
   "cell_type": "code",
   "execution_count": 98,
   "metadata": {},
   "outputs": [],
   "source": [
    "X_train, X_test, y_train, y_test = train_test_split(x, y, test_size=0.2, random_state=42)"
   ]
  },
  {
   "cell_type": "code",
   "execution_count": 99,
   "metadata": {},
   "outputs": [],
   "source": [
    "# Convert X features to float tensors\n",
    "X_train = torch.FloatTensor(X_train)\n",
    "X_test = torch.FloatTensor(X_test)\n",
    "     \n",
    "\n",
    "# Convert y labels to tensors long\n",
    "y_train = torch.LongTensor(y_train)\n",
    "y_test = torch.LongTensor(y_test)\n"
   ]
  },
  {
   "cell_type": "code",
   "execution_count": 100,
   "metadata": {},
   "outputs": [],
   "source": [
    "# Create a Model Class that inherits nn.Module\n",
    "\n",
    "class Model(nn.Module):\n",
    "  # Input layer (4 features of the flower) -->\n",
    "  # Hidden Layer1 (number of neurons) -->\n",
    "  # H2 (n) -->\n",
    "  # output (3 classes of iris flowers)\n",
    "  def __init__(self, in_features=4, h1=8, h2=9, out_features=3):\n",
    "    super().__init__() # instantiate our nn.Module\n",
    "    self.layer1 = nn.Linear(in_features, h1)\n",
    "    self.layer2 = nn.Linear(h1, h2)\n",
    "    self.out = nn.Linear(h2, out_features)\n",
    "\n",
    "  def forward(self, x):\n",
    "    x = F.relu(self.layer1(x))\n",
    "    x = F.relu(self.layer2(x))\n",
    "    x = self.out(x)\n",
    "    \n",
    "    # #Another way\n",
    "    # z1 = self.layer_1(x)\n",
    "    # a1 = self.hidden_activation(z1)\n",
    "\n",
    "    # z2 = self.layer_2(a1)\n",
    "    # a2 = self.softmax(z2)\n",
    "    \n",
    "  \n",
    "    return x\n"
   ]
  },
  {
   "cell_type": "code",
   "execution_count": 101,
   "metadata": {},
   "outputs": [
    {
     "name": "stdout",
     "output_type": "stream",
     "text": [
      "Model(\n",
      "  (layer1): Linear(in_features=4, out_features=8, bias=True)\n",
      "  (layer2): Linear(in_features=8, out_features=9, bias=True)\n",
      "  (out): Linear(in_features=9, out_features=3, bias=True)\n",
      ")\n",
      "<generator object Module.parameters at 0x00000154BD5A34C0>\n"
     ]
    }
   ],
   "source": [
    "model = Model()\n",
    "print(model)\n",
    "print(model.parameters())"
   ]
  },
  {
   "cell_type": "code",
   "execution_count": 102,
   "metadata": {},
   "outputs": [],
   "source": [
    "from torch.optim import Adam\n",
    "criterion = nn.CrossEntropyLoss()\n",
    "optimizer = Adam(model.parameters(), lr=0.01)"
   ]
  },
  {
   "cell_type": "code",
   "execution_count": 103,
   "metadata": {},
   "outputs": [
    {
     "name": "stdout",
     "output_type": "stream",
     "text": [
      "Epoch: 0 and loss: 1.2294524908065796\n",
      "Epoch: 10 and loss: 0.8919476866722107\n",
      "Epoch: 20 and loss: 0.6317808032035828\n",
      "Epoch: 30 and loss: 0.40249207615852356\n",
      "Epoch: 40 and loss: 0.26628443598747253\n",
      "Epoch: 50 and loss: 0.16571025550365448\n",
      "Epoch: 60 and loss: 0.1075841411948204\n",
      "Epoch: 70 and loss: 0.08150063455104828\n",
      "Epoch: 80 and loss: 0.07003290206193924\n",
      "Epoch: 90 and loss: 0.06427158415317535\n",
      "Epoch: 100 and loss: 0.06097833439707756\n",
      "Epoch: 110 and loss: 0.05886974558234215\n",
      "Epoch: 120 and loss: 0.057383954524993896\n",
      "Epoch: 130 and loss: 0.0562584213912487\n",
      "Epoch: 140 and loss: 0.055358611047267914\n",
      "Epoch: 150 and loss: 0.05461077392101288\n",
      "Epoch: 160 and loss: 0.053970035165548325\n",
      "Epoch: 170 and loss: 0.0534076951444149\n",
      "Epoch: 180 and loss: 0.05290539935231209\n",
      "Epoch: 190 and loss: 0.052450019866228104\n",
      "Epoch: 200 and loss: 0.052031259983778\n",
      "Epoch: 210 and loss: 0.05164230242371559\n",
      "Epoch: 220 and loss: 0.05127861350774765\n",
      "Epoch: 230 and loss: 0.05093682184815407\n",
      "Epoch: 240 and loss: 0.050614748150110245\n",
      "Epoch: 250 and loss: 0.05031074956059456\n",
      "Epoch: 260 and loss: 0.05002378672361374\n",
      "Epoch: 270 and loss: 0.05014469474554062\n",
      "Epoch: 280 and loss: 0.05071355402469635\n",
      "Epoch: 290 and loss: 0.04979447275400162\n",
      "Epoch: 300 and loss: 0.04936249554157257\n",
      "Epoch: 310 and loss: 0.0490773506462574\n",
      "Epoch: 320 and loss: 0.04890753701329231\n",
      "Epoch: 330 and loss: 0.04876041039824486\n",
      "Epoch: 340 and loss: 0.04861588403582573\n",
      "Epoch: 350 and loss: 0.04848187789320946\n",
      "Epoch: 360 and loss: 0.04835546016693115\n",
      "Epoch: 370 and loss: 0.04823558032512665\n",
      "Epoch: 380 and loss: 0.048121724277734756\n",
      "Epoch: 390 and loss: 0.048013780266046524\n",
      "Epoch: 400 and loss: 0.04791172221302986\n",
      "Epoch: 410 and loss: 0.04781531170010567\n",
      "Epoch: 420 and loss: 0.04772455617785454\n",
      "Epoch: 430 and loss: 0.04763943701982498\n",
      "Epoch: 440 and loss: 0.047867171466350555\n",
      "Epoch: 450 and loss: 0.04899611324071884\n",
      "Epoch: 460 and loss: 0.04818642884492874\n",
      "Epoch: 470 and loss: 0.04767342656850815\n",
      "Epoch: 480 and loss: 0.04740111529827118\n",
      "Epoch: 490 and loss: 0.04730430617928505\n",
      "Epoch: 500 and loss: 0.04727175459265709\n",
      "Epoch: 510 and loss: 0.0472194068133831\n",
      "Epoch: 520 and loss: 0.04718037694692612\n",
      "Epoch: 530 and loss: 0.0471411868929863\n",
      "Epoch: 540 and loss: 0.0471053309738636\n",
      "Epoch: 550 and loss: 0.047071896493434906\n",
      "Epoch: 560 and loss: 0.04704033210873604\n",
      "Epoch: 570 and loss: 0.047010697424411774\n",
      "Epoch: 580 and loss: 0.046982910484075546\n",
      "Epoch: 590 and loss: 0.04695677384734154\n",
      "Epoch: 600 and loss: 0.04693238064646721\n",
      "Epoch: 610 and loss: 0.04690957069396973\n",
      "Epoch: 620 and loss: 0.04688839614391327\n",
      "Epoch: 630 and loss: 0.04695465788245201\n",
      "Epoch: 640 and loss: 0.04685861989855766\n",
      "Epoch: 650 and loss: 0.047644104808568954\n",
      "Epoch: 660 and loss: 0.04688470810651779\n",
      "Epoch: 670 and loss: 0.04695189744234085\n",
      "Epoch: 680 and loss: 0.0468110553920269\n",
      "Epoch: 690 and loss: 0.046804867684841156\n",
      "Epoch: 700 and loss: 0.04678931459784508\n",
      "Epoch: 710 and loss: 0.04677354544401169\n",
      "Epoch: 720 and loss: 0.046762388199567795\n",
      "Epoch: 730 and loss: 0.04675279185175896\n",
      "Epoch: 740 and loss: 0.046743739396333694\n",
      "Epoch: 750 and loss: 0.046735234558582306\n",
      "Epoch: 760 and loss: 0.046727314591407776\n",
      "Epoch: 770 and loss: 0.04671990126371384\n",
      "Epoch: 780 and loss: 0.04671289399266243\n",
      "Epoch: 790 and loss: 0.046706411987543106\n",
      "Epoch: 800 and loss: 0.04670028015971184\n",
      "Epoch: 810 and loss: 0.04669452831149101\n",
      "Epoch: 820 and loss: 0.046689100563526154\n",
      "Epoch: 830 and loss: 0.046684276312589645\n",
      "Epoch: 840 and loss: 0.04681216552853584\n",
      "Epoch: 850 and loss: 0.04667864367365837\n",
      "Epoch: 860 and loss: 0.0471637137234211\n",
      "Epoch: 870 and loss: 0.04701309651136398\n",
      "Epoch: 880 and loss: 0.04667596518993378\n",
      "Epoch: 890 and loss: 0.04671597480773926\n",
      "Epoch: 900 and loss: 0.04667270556092262\n",
      "Epoch: 910 and loss: 0.04666019231081009\n",
      "Epoch: 920 and loss: 0.046657487750053406\n",
      "Epoch: 930 and loss: 0.046654555946588516\n",
      "Epoch: 940 and loss: 0.04665175825357437\n",
      "Epoch: 950 and loss: 0.04664909094572067\n",
      "Epoch: 960 and loss: 0.04664677008986473\n",
      "Epoch: 970 and loss: 0.046644505113363266\n",
      "Epoch: 980 and loss: 0.04664231091737747\n",
      "Epoch: 990 and loss: 0.04664026200771332\n"
     ]
    }
   ],
   "source": [
    "\n",
    "epochs = 1000\n",
    "losses = []\n",
    "model.train()\n",
    "\n",
    "for i in range(epochs):\n",
    "    # Forward pass\n",
    "    y_pred = model.forward(X_train)\n",
    "    \n",
    "    # Compute loss\n",
    "    loss = criterion(y_pred, y_train)\n",
    "    losses.append(loss.detach().numpy())\n",
    "    \n",
    "    # print every 10 epoch\n",
    "    if i % 10 == 0:\n",
    "      print(f'Epoch: {i} and loss: {loss}')\n",
    "      \n",
    "    optimizer.zero_grad()\n",
    "    loss.backward()\n",
    "    optimizer.step()\n",
    "\n",
    "\n"
   ]
  },
  {
   "cell_type": "code",
   "execution_count": 104,
   "metadata": {},
   "outputs": [
    {
     "data": {
      "text/plain": [
       "Text(0.5, 0, 'Epoch')"
      ]
     },
     "execution_count": 104,
     "metadata": {},
     "output_type": "execute_result"
    },
    {
     "data": {
      "image/png": "[encoded data removed]",
      "text/plain": [
       "<Figure size 640x480 with 1 Axes>"
      ]
     },
     "metadata": {},
     "output_type": "display_data"
    }
   ],
   "source": [
    "# Graph it out!\n",
    "plt.plot(range(epochs), losses)\n",
    "plt.ylabel(\"loss/error\")\n",
    "plt.xlabel('Epoch')\n"
   ]
  },
  {
   "cell_type": "code",
   "execution_count": 105,
   "metadata": {},
   "outputs": [
    {
     "data": {
      "text/plain": [
       "tensor(0.0161)"
      ]
     },
     "execution_count": 105,
     "metadata": {},
     "output_type": "execute_result"
    }
   ],
   "source": [
    "model.eval()\n",
    "# Evaluate Model on Test Data Set (validate model on test set)\n",
    "with torch.no_grad():  # Basically turn off back propogation\n",
    "  y_eval = model.forward(X_test) # X_test are features from our test set, y_eval will be predictions\n",
    "  loss = criterion(y_eval, y_test) # Find the loss or error\n",
    "loss\n",
    "#Just without updating the weights"
   ]
  },
  {
   "cell_type": "code",
   "execution_count": 106,
   "metadata": {},
   "outputs": [
    {
     "name": "stdout",
     "output_type": "stream",
     "text": [
      "1.)  tensor([-7.1126,  8.2054, -0.6935]) \t 1 \t 1\n",
      "2.)  tensor([ 13.6550,   3.4211, -27.2223]) \t 0 \t 0\n",
      "3.)  tensor([-22.8518,   5.0906,  26.0322]) \t 2 \t 2\n",
      "4.)  tensor([-8.2027,  7.7273,  1.5741]) \t 1 \t 1\n",
      "5.)  tensor([-8.8590,  8.1658,  1.7999]) \t 1 \t 1\n",
      "6.)  tensor([ 12.7245,   3.2882, -25.4752]) \t 0 \t 0\n",
      "7.)  tensor([-3.0719,  7.3190, -5.5765]) \t 1 \t 1\n",
      "8.)  tensor([-16.0205,   6.2946,  14.6413]) \t 2 \t 2\n",
      "9.)  tensor([-10.1085,   6.9939,   5.1864]) \t 1 \t 1\n",
      "10.)  tensor([-4.0761,  7.6804, -4.5354]) \t 1 \t 1\n",
      "11.)  tensor([-13.6149,   6.8252,  10.5098]) \t 2 \t 2\n",
      "12.)  tensor([ 13.0737,   2.8640, -25.2401]) \t 0 \t 0\n",
      "13.)  tensor([ 14.4168,   3.0817, -27.7785]) \t 0 \t 0\n",
      "14.)  tensor([ 13.2262,   2.9341, -25.6399]) \t 0 \t 0\n",
      "15.)  tensor([ 13.9107,   3.0666, -26.9902]) \t 0 \t 0\n",
      "16.)  tensor([-8.6361,  8.0521,  1.7666]) \t 1 \t 1\n",
      "17.)  tensor([-18.0887,   5.6359,  18.5278]) \t 2 \t 2\n",
      "18.)  tensor([-3.9474,  7.5034, -4.4991]) \t 1 \t 1\n",
      "19.)  tensor([-7.0743,  7.8483, -0.2035]) \t 1 \t 1\n",
      "20.)  tensor([-17.7392,   5.4804,  18.2463]) \t 2 \t 2\n",
      "21.)  tensor([ 12.8842,   2.9420, -25.1453]) \t 0 \t 0\n",
      "22.)  tensor([-11.9046,   6.9101,   7.9635]) \t 2 \t 2\n",
      "23.)  tensor([ 12.2344,   3.2366, -24.5640]) \t 0 \t 0\n",
      "24.)  tensor([-17.2802,   5.6753,  17.2837]) \t 2 \t 2\n",
      "25.)  tensor([-17.3385,   7.5363,  14.7039]) \t 2 \t 2\n",
      "26.)  tensor([-16.7574,   5.9503,  16.1626]) \t 2 \t 2\n",
      "27.)  tensor([-17.0419,   6.0029,  16.3524]) \t 2 \t 2\n",
      "28.)  tensor([-18.6451,   5.7896,  19.1108]) \t 2 \t 2\n",
      "29.)  tensor([ 12.5938,   2.9116, -24.6354]) \t 0 \t 0\n",
      "30.)  tensor([ 12.7364,   2.9727, -25.0014]) \t 0 \t 0\n",
      "We got 30 correct!\n"
     ]
    }
   ],
   "source": [
    "correct = 0\n",
    "with torch.no_grad():\n",
    "  for i, data in enumerate(X_test):\n",
    "    y_val = model.forward(data)\n",
    "\n",
    "    if y_test[i] == 0:\n",
    "      x = \"Setosa\"\n",
    "    elif y_test[i] == 1:\n",
    "      x = 'Versicolor'\n",
    "    else:\n",
    "      x = 'Virginica'\n",
    "\n",
    "\n",
    "    # Will tell us what type of flower class our network thinks it is\n",
    "    print(f'{i+1}.)  {str(y_val)} \\t {y_test[i]} \\t {y_val.argmax().item()}')\n",
    "\n",
    "    # Correct or not\n",
    "    if y_val.argmax().item() == y_test[i]:\n",
    "      correct +=1\n",
    "\n",
    "print(f'We got {correct} correct!')\n"
   ]
  }
 ],
 "metadata": {
  "kernelspec": {
   "display_name": "base",
   "language": "python",
   "name": "python3"
  },
  "language_info": {
   "codemirror_mode": {
    "name": "ipython",
    "version": 3
   },
   "file_extension": ".py",
   "mimetype": "text/x-python",
   "name": "python",
   "nbconvert_exporter": "python",
   "pygments_lexer": "ipython3",
   "version": "3.12.4"
  }
 },
 "nbformat": 4,
 "nbformat_minor": 2
}
