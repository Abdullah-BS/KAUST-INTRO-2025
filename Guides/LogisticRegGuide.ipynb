{
 "cells": [
  {
   "cell_type": "markdown",
   "metadata": {},
   "source": [
    "### 1. Import Required Libraries\n",
    "\n",
    "### 2. Load Your Data\n",
    "\n",
    "```data = pd.read_csv('your_data.csv')```\n",
    "\n",
    "### 3. Explore and Preprocess the Data\n",
    "\n",
    "```print(data.info())  # Understand the structure of your data```\n",
    "\n",
    "```data.fillna(method='ffill', inplace=True)  # Handle missing values```\n",
    "\n",
    "### 4. Define Features and Target\n",
    "\n",
    "`X = data.drop('target_column', axis=1)`\n",
    "\n",
    "   `y = data['target_column']`\n",
    "\n",
    "### 5. Split the Data\n",
    "\n",
    "`X_train, X_test, y_train, y_test = train_test_split(X, y, test_size=0.2, random_state=42)`\n",
    "\n",
    "### 6. Train the Logistic Regression Model\n",
    "\n",
    "`model = LogisticRegression()`\n",
    "\n",
    "`model.fit(X_train, y_train)`\n",
    "\n",
    "### 7. Make Predictions\n",
    "\n",
    "`y_pred = model.predict(X_test)`\n",
    "\n",
    "### 8. Evaluate the Model"
   ]
  },
  {
   "cell_type": "markdown",
   "metadata": {},
   "source": [
    "`accuracy = accuracy_score(y_test, y_pred)\n",
    "`"
   ]
  },
  {
   "cell_type": "code",
   "execution_count": 77,
   "metadata": {},
   "outputs": [],
   "source": [
    "import numpy as np\n",
    "import pandas as pd\n",
    "import matplotlib.pyplot as plt\n",
    "from sklearn.datasets import load_breast_cancer"
   ]
  },
  {
   "cell_type": "code",
   "execution_count": 78,
   "metadata": {},
   "outputs": [],
   "source": [
    "data = load_breast_cancer()\n",
    "x = data.data\n",
    "y = data.target"
   ]
  },
  {
   "cell_type": "code",
   "execution_count": 79,
   "metadata": {},
   "outputs": [
    {
     "name": "stdout",
     "output_type": "stream",
     "text": [
      "(569, 30) (569,)\n"
     ]
    }
   ],
   "source": [
    "print(x.shape, y.shape)"
   ]
  },
  {
   "cell_type": "code",
   "execution_count": 80,
   "metadata": {},
   "outputs": [
    {
     "name": "stdout",
     "output_type": "stream",
     "text": [
      "[[1.799e+01 1.038e+01 1.228e+02 ... 2.654e-01 4.601e-01 1.189e-01]\n",
      " [2.057e+01 1.777e+01 1.329e+02 ... 1.860e-01 2.750e-01 8.902e-02]\n",
      " [1.969e+01 2.125e+01 1.300e+02 ... 2.430e-01 3.613e-01 8.758e-02]\n",
      " ...\n",
      " [1.660e+01 2.808e+01 1.083e+02 ... 1.418e-01 2.218e-01 7.820e-02]\n",
      " [2.060e+01 2.933e+01 1.401e+02 ... 2.650e-01 4.087e-01 1.240e-01]\n",
      " [7.760e+00 2.454e+01 4.792e+01 ... 0.000e+00 2.871e-01 7.039e-02]]\n"
     ]
    }
   ],
   "source": [
    "print(x)"
   ]
  },
  {
   "cell_type": "markdown",
   "metadata": {},
   "source": [
    "### Scaling"
   ]
  },
  {
   "cell_type": "code",
   "execution_count": 81,
   "metadata": {},
   "outputs": [],
   "source": [
    "from sklearn.preprocessing import StandardScaler\n",
    "\n",
    "# Scale the features to have mean 0 and variance 1\n",
    "scaler = StandardScaler()\n",
    "X_scaled = scaler.fit_transform(x)\n"
   ]
  },
  {
   "cell_type": "code",
   "execution_count": 82,
   "metadata": {},
   "outputs": [],
   "source": [
    "from sklearn.model_selection import train_test_split\n",
    "X_train, X_test, y_train, y_test = train_test_split(X_scaled, y, test_size=0.2, random_state=42)"
   ]
  },
  {
   "cell_type": "markdown",
   "metadata": {},
   "source": [
    "# From Scratch"
   ]
  },
  {
   "cell_type": "code",
   "execution_count": 83,
   "metadata": {},
   "outputs": [],
   "source": [
    "from sklearn.metrics import accuracy_score\n",
    "def accuracy(y_test, y_pred):\n",
    "    accuracy = accuracy_score(y_test, y_pred)\n",
    "    return accuracy"
   ]
  },
  {
   "cell_type": "code",
   "execution_count": 91,
   "metadata": {},
   "outputs": [],
   "source": [
    "class LogisticRegression:\n",
    "    def __init__(self, learning_rate=0.01, num_iterations=1000):\n",
    "        self.learning_rate = learning_rate\n",
    "        self.num_iterations = num_iterations\n",
    "        self.weight = None\n",
    "        self.bias = None\n",
    "        self.loss_lst = []\n",
    "        \n",
    "    def sigmoid(self, z):\n",
    "        z = np.clip(z, -500, 500)\n",
    "        return 1 / (1 + np.exp(-z))\n",
    "\n",
    "    def log_loss(self, y, y_pred):\n",
    "        # epsilon = 1e-15\n",
    "        # y_pred = np.clip(y_pred, epsilon, 1 - epsilon)\n",
    "\n",
    "        # loss = np.sum(-y * np.log(y_pred+epsilon) + (1 - y) * np.log(1 - y_pred + epsilon))/len(y)\n",
    "\n",
    "        loss = -np.mean(y * np.log(y_pred) + (1 - y) * np.log(1 - y_pred))\n",
    "\n",
    "        return loss\n",
    "\n",
    "    def fit(self, X, y):\n",
    "        n_samples, n_features = X.shape\n",
    "        self.weight = np.zeros(n_features)\n",
    "        self.bias = 0\n",
    "        \n",
    "        for epoch in range(self.num_iterations):\n",
    "            y_predicted = self.sigmoid(np.dot(X, self.weight) + self.bias)\n",
    "            \n",
    "            dw = (1 / n_samples) * np.dot(X.T, (y_predicted - y))\n",
    "            db = (1 / n_samples) * np.sum(y_predicted - y)\n",
    "            \n",
    "            self.weight -= self.learning_rate * dw\n",
    "            self.bias -= self.learning_rate * db\n",
    "            \n",
    "            if epoch % 10 == 0:\n",
    "                loss = log_loss(y, y_predicted)\n",
    "                self.loss_lst.append(loss)\n",
    "                print(f'epoch: {epoch} epoch, loss: {loss}')\n",
    "    \n",
    "    def predict(self, X):\n",
    "        y_predicted = self.sigmoid(np.dot(X, self.weight) + self.bias)\n",
    "        class_pred = [0 if y<=0.5 else 1 for y in y_predicted]\n",
    "        return class_pred\n",
    "    \n",
    "    def plot(self):\n",
    "        plt.figure()\n",
    "        plt.plot(self.loss_lst)\n",
    "        plt.xlabel('Iteration')\n",
    "        plt.ylabel('Loss')\n",
    "        plt.title('Training Loss')\n",
    "        plt.grid(True)\n",
    "        plt.show()\n",
    "\n",
    "    "
   ]
  },
  {
   "cell_type": "markdown",
   "metadata": {},
   "source": [
    "### Training"
   ]
  },
  {
   "cell_type": "code",
   "execution_count": 92,
   "metadata": {},
   "outputs": [
    {
     "name": "stdout",
     "output_type": "stream",
     "text": [
      "epoch: 0 epoch, loss: 0.6931471805599453\n",
      "epoch: 10 epoch, loss: 0.5443428616627191\n",
      "epoch: 20 epoch, loss: 0.4582689238475323\n",
      "epoch: 30 epoch, loss: 0.40240846537448705\n",
      "epoch: 40 epoch, loss: 0.36298784679318297\n",
      "epoch: 50 epoch, loss: 0.33348149163153334\n",
      "epoch: 60 epoch, loss: 0.31042563120117206\n",
      "epoch: 70 epoch, loss: 0.29181437663748516\n",
      "epoch: 80 epoch, loss: 0.276405648217943\n",
      "epoch: 90 epoch, loss: 0.26338853555204467\n",
      "epoch: 100 epoch, loss: 0.2522104222077562\n",
      "epoch: 110 epoch, loss: 0.2424811001484043\n",
      "epoch: 120 epoch, loss: 0.23391667486651413\n",
      "epoch: 130 epoch, loss: 0.22630525663784712\n",
      "epoch: 140 epoch, loss: 0.21948517079553487\n",
      "epoch: 150 epoch, loss: 0.21333066362860723\n",
      "epoch: 160 epoch, loss: 0.20774225775996566\n",
      "epoch: 170 epoch, loss: 0.20264008164070477\n",
      "epoch: 180 epoch, loss: 0.19795915355294091\n",
      "epoch: 190 epoch, loss: 0.19364598114974832\n",
      "epoch: 200 epoch, loss: 0.18965606557682496\n",
      "epoch: 210 epoch, loss: 0.1859520396884831\n",
      "epoch: 220 epoch, loss: 0.18250225859442565\n",
      "epoch: 230 epoch, loss: 0.17927971808396478\n",
      "epoch: 240 epoch, loss: 0.17626121424761887\n",
      "epoch: 250 epoch, loss: 0.1734266829714228\n",
      "epoch: 260 epoch, loss: 0.1707586752848115\n",
      "epoch: 270 epoch, loss: 0.1682419365361017\n",
      "epoch: 280 epoch, loss: 0.16586306579943988\n",
      "epoch: 290 epoch, loss: 0.16361023792086207\n",
      "epoch: 300 epoch, loss: 0.1614729749401883\n",
      "epoch: 310 epoch, loss: 0.1594419567836031\n",
      "epoch: 320 epoch, loss: 0.1575088634512576\n",
      "epoch: 330 epoch, loss: 0.15566624266061002\n",
      "epoch: 340 epoch, loss: 0.15390739821347366\n",
      "epoch: 350 epoch, loss: 0.15222629534830207\n",
      "epoch: 360 epoch, loss: 0.15061748010120463\n",
      "epoch: 370 epoch, loss: 0.14907601028856435\n",
      "epoch: 380 epoch, loss: 0.1475973961837065\n",
      "epoch: 390 epoch, loss: 0.14617754932119376\n",
      "epoch: 400 epoch, loss: 0.14481273814814144\n",
      "epoch: 410 epoch, loss: 0.14349954946971694\n",
      "epoch: 420 epoch, loss: 0.14223485481866313\n",
      "epoch: 430 epoch, loss: 0.14101578102609197\n",
      "epoch: 440 epoch, loss: 0.13983968439041944\n",
      "epoch: 450 epoch, loss: 0.13870412793891648\n",
      "epoch: 460 epoch, loss: 0.13760686135639366\n",
      "epoch: 470 epoch, loss: 0.13654580322149454\n",
      "epoch: 480 epoch, loss: 0.13551902524566858\n",
      "epoch: 490 epoch, loss: 0.13452473825528305\n",
      "epoch: 500 epoch, loss: 0.13356127969521775\n",
      "epoch: 510 epoch, loss: 0.13262710246403397\n",
      "epoch: 520 epoch, loss: 0.13172076491750626\n",
      "epoch: 530 epoch, loss: 0.13084092189984128\n",
      "epoch: 540 epoch, loss: 0.12998631668098726\n",
      "epoch: 550 epoch, loss: 0.1291557736946472\n",
      "epoch: 560 epoch, loss: 0.12834819198542224\n",
      "epoch: 570 epoch, loss: 0.1275625392853123\n",
      "epoch: 580 epoch, loss: 0.12679784664991875\n",
      "epoch: 590 epoch, loss: 0.12605320359338426\n",
      "epoch: 600 epoch, loss: 0.12532775366859378\n",
      "epoch: 610 epoch, loss: 0.12462069044562818\n",
      "epoch: 620 epoch, loss: 0.12393125384706105\n",
      "epoch: 630 epoch, loss: 0.12325872680354813\n",
      "epoch: 640 epoch, loss: 0.12260243219738468\n",
      "epoch: 650 epoch, loss: 0.12196173006538953\n",
      "epoch: 660 epoch, loss: 0.12133601503569133\n",
      "epoch: 670 epoch, loss: 0.1207247139758086\n",
      "epoch: 680 epoch, loss: 0.12012728383188409\n",
      "epoch: 690 epoch, loss: 0.11954320964110396\n",
      "epoch: 700 epoch, loss: 0.11897200270124135\n",
      "epoch: 710 epoch, loss: 0.11841319888294853\n",
      "epoch: 720 epoch, loss: 0.11786635707190976\n",
      "epoch: 730 epoch, loss: 0.1173310577292824\n",
      "epoch: 740 epoch, loss: 0.11680690156002245\n",
      "epoch: 750 epoch, loss: 0.11629350827972464\n",
      "epoch: 760 epoch, loss: 0.11579051547153031\n",
      "epoch: 770 epoch, loss: 0.1152975775254753\n",
      "epoch: 780 epoch, loss: 0.11481436465338231\n",
      "epoch: 790 epoch, loss: 0.11434056197305555\n",
      "epoch: 800 epoch, loss: 0.11387586865612033\n",
      "epoch: 810 epoch, loss: 0.11341999713437342\n",
      "epoch: 820 epoch, loss: 0.11297267235997933\n",
      "epoch: 830 epoch, loss: 0.11253363111527058\n",
      "epoch: 840 epoch, loss: 0.11210262136828741\n",
      "epoch: 850 epoch, loss: 0.1116794016705356\n",
      "epoch: 860 epoch, loss: 0.11126374059374747\n",
      "epoch: 870 epoch, loss: 0.11085541620270983\n",
      "epoch: 880 epoch, loss: 0.11045421556147315\n",
      "epoch: 890 epoch, loss: 0.11005993427048348\n",
      "epoch: 900 epoch, loss: 0.10967237603238399\n",
      "epoch: 910 epoch, loss: 0.10929135224442045\n",
      "epoch: 920 epoch, loss: 0.10891668161555237\n",
      "epoch: 930 epoch, loss: 0.1085481898065274\n",
      "epoch: 940 epoch, loss: 0.10818570909131467\n",
      "epoch: 950 epoch, loss: 0.10782907803842104\n",
      "epoch: 960 epoch, loss: 0.10747814121073009\n",
      "epoch: 970 epoch, loss: 0.10713274888260906\n",
      "epoch: 980 epoch, loss: 0.10679275677312632\n",
      "epoch: 990 epoch, loss: 0.10645802579430969\n"
     ]
    },
    {
     "data": {
      "image/png": "[encoded data removed]",
      "text/plain": [
       "<Figure size 640x480 with 1 Axes>"
      ]
     },
     "metadata": {},
     "output_type": "display_data"
    }
   ],
   "source": [
    "model = LogisticRegression(learning_rate=0.01)\n",
    "model.fit(X_train, y_train)\n",
    "model.plot()"
   ]
  },
  {
   "cell_type": "markdown",
   "metadata": {},
   "source": [
    "### Prediction + Accuracy"
   ]
  },
  {
   "cell_type": "code",
   "execution_count": 93,
   "metadata": {},
   "outputs": [
    {
     "name": "stdout",
     "output_type": "stream",
     "text": [
      "train_acc:  98.24 %\n",
      "test_acc:  99.12 %\n"
     ]
    }
   ],
   "source": [
    "# Train\n",
    "predictions = model.predict(X_train)\n",
    "train_acc = round(accuracy(predictions, y_train) * 100, 2)\n",
    "print(\"train_acc: \", train_acc, \"%\")\n",
    "\n",
    "# Test\n",
    "predictions = model.predict(X_test)\n",
    "test_acc = round(accuracy(predictions, y_test) * 100, 2)\n",
    "print(\"test_acc: \", test_acc, \"%\")"
   ]
  },
  {
   "cell_type": "markdown",
   "metadata": {},
   "source": [
    "# Using Sklearn"
   ]
  },
  {
   "cell_type": "code",
   "execution_count": 90,
   "metadata": {},
   "outputs": [
    {
     "name": "stdout",
     "output_type": "stream",
     "text": [
      "97.37 %\n"
     ]
    }
   ],
   "source": [
    "from sklearn.linear_model import LogisticRegression\n",
    "\n",
    "model = LogisticRegression()\n",
    "model.fit(X_train, y_train)\n",
    "\n",
    "predictions = model.predict(X_test)\n",
    "acc = round(accuracy(predictions, y_test) * 100, 2)\n",
    "print(acc, \"%\")"
   ]
  }
 ],
 "metadata": {
  "kernelspec": {
   "display_name": "base",
   "language": "python",
   "name": "python3"
  },
  "language_info": {
   "codemirror_mode": {
    "name": "ipython",
    "version": 3
   },
   "file_extension": ".py",
   "mimetype": "text/x-python",
   "name": "python",
   "nbconvert_exporter": "python",
   "pygments_lexer": "ipython3",
   "version": "3.12.4"
  }
 },
 "nbformat": 4,
 "nbformat_minor": 2
}
